{
  "nbformat": 4,
  "nbformat_minor": 0,
  "metadata": {
    "colab": {
      "name": "CNN_Training_Tv2.ipynb",
      "provenance": [],
      "collapsed_sections": [],
      "toc_visible": true,
      "authorship_tag": "ABX9TyPe98lCNRSahYu/hwv1DGh/",
      "include_colab_link": true
    },
    "kernelspec": {
      "display_name": "Python 3",
      "name": "python3"
    }
  },
  "cells": [
    {
      "cell_type": "markdown",
      "metadata": {
        "id": "view-in-github",
        "colab_type": "text"
      },
      "source": [
        "<a href=\"https://colab.research.google.com/github/rickituri98/Fault_Classifier_CNN/blob/master/CNN_Training_Tv2.ipynb\" target=\"_parent\"><img src=\"https://colab.research.google.com/assets/colab-badge.svg\" alt=\"Open In Colab\"/></a>"
      ]
    },
    {
      "cell_type": "markdown",
      "metadata": {
        "id": "fuv3nzSbiKCI"
      },
      "source": [
        "## Training and Validation Proccess - Convolutional Neural Network"
      ]
    },
    {
      "cell_type": "code",
      "metadata": {
        "id": "Bqib0bvn-Ddy",
        "colab": {
          "base_uri": "https://localhost:8080/"
        },
        "outputId": "c08d629f-07d6-44ec-db9e-f8a35c3ef7c5"
      },
      "source": [
        "!npx degit rickituri98/Fault_Classifier_CNN/Outputs_Data_Handling -f"
      ],
      "execution_count": 1,
      "outputs": [
        {
          "output_type": "stream",
          "text": [
            "\u001b[K\u001b[?25hnpx: installed 1 in 1.859s\n",
            "\u001b[36m> destination directory is not empty. Using --force, continuing\u001b[39m\n",
            "\u001b[36m> cloned \u001b[1mrickituri98/Fault_Classifier_CNN\u001b[22m#\u001b[1mmaster\u001b[22m\u001b[39m\n"
          ],
          "name": "stdout"
        }
      ]
    },
    {
      "cell_type": "markdown",
      "metadata": {
        "id": "beJdVcAripU3"
      },
      "source": [
        "## Importing dataset and modules"
      ]
    },
    {
      "cell_type": "code",
      "metadata": {
        "id": "aCuGUzkpjiP7"
      },
      "source": [
        "import zipfile\n",
        "with zipfile.ZipFile(\"/content/Training&Test_set.zip\",\"r\") as zip_ref:\n",
        "    zip_ref.extractall()"
      ],
      "execution_count": 2,
      "outputs": []
    },
    {
      "cell_type": "code",
      "metadata": {
        "colab": {
          "base_uri": "https://localhost:8080/"
        },
        "id": "0pUjGXhwAFht",
        "outputId": "b3a69df1-4271-4c19-8e8f-6ca98e03cc06"
      },
      "source": [
        "!pip install -q pyyaml h5py\n",
        "import scipy.io as sio\n",
        "import matplotlib.pyplot as plt\n",
        "import time\n",
        "import os\n",
        "import numpy as np\n",
        "\n",
        "TrainTest_dict = sio.loadmat('/content/Training&Test_set.mat')\n",
        "X_trainset = TrainTest_dict.get(\"X_train\")\n",
        "Y_trainset = TrainTest_dict.get(\"Y_train\")\n",
        "X_testset = TrainTest_dict.get(\"X_test\")\n",
        "Y_testset = TrainTest_dict.get(\"Y_test\")\n",
        "print(type(TrainTest_dict), type(X_trainset), type(Y_trainset), len(Y_trainset))"
      ],
      "execution_count": 3,
      "outputs": [
        {
          "output_type": "stream",
          "text": [
            "<class 'dict'> <class 'numpy.ndarray'> <class 'numpy.ndarray'> 470\n"
          ],
          "name": "stdout"
        }
      ]
    },
    {
      "cell_type": "code",
      "metadata": {
        "colab": {
          "base_uri": "https://localhost:8080/"
        },
        "id": "itaf9dqWGbH9",
        "outputId": "8a27473d-6942-4d9d-b5ca-412978e83732"
      },
      "source": [
        "print(X_trainset.shape)"
      ],
      "execution_count": 4,
      "outputs": [
        {
          "output_type": "stream",
          "text": [
            "(470, 2943, 3)\n"
          ],
          "name": "stdout"
        }
      ]
    },
    {
      "cell_type": "code",
      "metadata": {
        "id": "iUo0LM9hivoj",
        "colab": {
          "base_uri": "https://localhost:8080/",
          "height": 35
        },
        "outputId": "d9c35900-74e3-4bb8-adc5-de3d0d5727e4"
      },
      "source": [
        "import tensorflow as tf\n",
        "from tensorflow import keras\n",
        "from keras.layers import Input, Dense, Activation, BatchNormalization, Flatten, Conv1D\n",
        "from keras.layers import MaxPooling1D, Dropout, GlobalMaxPooling1D\n",
        "from keras.models import Model\n",
        "from sklearn.model_selection import train_test_split\n",
        "from keras.utils import layer_utils\n",
        "from keras.utils import plot_model\n",
        "from keras.optimizers import Adam\n",
        "tf.__version__"
      ],
      "execution_count": 5,
      "outputs": [
        {
          "output_type": "execute_result",
          "data": {
            "application/vnd.google.colaboratory.intrinsic+json": {
              "type": "string"
            },
            "text/plain": [
              "'2.3.0'"
            ]
          },
          "metadata": {
            "tags": []
          },
          "execution_count": 5
        }
      ]
    },
    {
      "cell_type": "markdown",
      "metadata": {
        "id": "KxPtdOC3pu1T"
      },
      "source": [
        "## Defining Hyperparameters"
      ]
    },
    {
      "cell_type": "code",
      "metadata": {
        "id": "_40CeSLSo0BF"
      },
      "source": [
        "batch_size = 24                     # Batch size\n",
        "seq_len = X_trainset[0].shape[0]          # Number of steps\n",
        "X_input_shape = X_trainset[0].shape\n",
        "learning_rate = 0.0001\n",
        "epochs = 100\n",
        "n_classes = 5\n",
        "n_channels = 3\n",
        "activation ='relu'\n",
        "loss = 'categorical_crossentropy'\n",
        "X_tr, X_vld, lab_tr, lab_vld = train_test_split(X_trainset, Y_trainset, stratify = Y_trainset, random_state = 123)\n",
        "#print(X_input_shape, X_trainset.shape[1:])"
      ],
      "execution_count": 6,
      "outputs": []
    },
    {
      "cell_type": "markdown",
      "metadata": {
        "id": "_ywXl_Rup4RZ"
      },
      "source": [
        "## Model Creation"
      ]
    },
    {
      "cell_type": "code",
      "metadata": {
        "id": "CGpT-88Rp3Yt",
        "colab": {
          "base_uri": "https://localhost:8080/"
        },
        "outputId": "0b3c96b8-0e3a-40e5-bd8c-222908980d8e"
      },
      "source": [
        "def model(input_shape):\n",
        "  X_input = Input(input_shape, name ='Input')\n",
        "\n",
        "  #First Multi-Layer: CONV->RELU\n",
        "  X = Conv1D(filters=18, kernel_size=2, strides=1, padding='same', name ='conv0', activation = activation)(X_input)\n",
        "  X = MaxPooling1D(pool_size=2, strides=2, padding='same', name ='pool0')(X)\n",
        "\n",
        "  # Second Multi-Layer: CONV->RELU\n",
        "  X = Conv1D(filters=36, kernel_size=2, strides=1, padding='same', name ='conv1', activation = activation)(X)\n",
        "  X = MaxPooling1D(pool_size=2, strides=2, padding='same', name ='pool1')(X)\n",
        "\n",
        "  # Third Multi-Layer: CONV->RELU\n",
        "  X = Conv1D(filters=72, kernel_size=2, strides=1, padding='same', name ='conv2', activation = activation)(X)\n",
        "  X = MaxPooling1D(pool_size=2, strides=2, padding='same', name ='pool2')(X)\n",
        "\n",
        "  # Fourth Multi-Layer: CONV->RELU\n",
        "  X = Conv1D(filters=144, kernel_size=2, strides=1, padding='same', name ='conv3', activation = activation)(X)\n",
        "  X = MaxPooling1D(pool_size=2, strides=2, padding='same', name ='pool3')(X)\n",
        "\n",
        "  # Fully Connected Layer\n",
        "  X_Flatten = Flatten(name ='Flatten_0')(X)\n",
        "  #X_Dense = Dense(X.shape[1]*X.shape[2], activation=activation, name='fully_connected_layer')(X_Flatten)\n",
        "  #X_Dropout = Dropout(0.5, name ='dropout')(X_Dense)\n",
        "  X_Dropout = Dropout(0.5, name ='dropout')(X_Flatten)\n",
        "  # Prediction\n",
        "  X_Output = Dense(n_classes, activation='softmax',  name ='Classifier')(X_Dropout)\n",
        "\n",
        "  model = Model(inputs=X_input, outputs=X_Output, name = 'Fault_Classifier')\n",
        "  adam = Adam(lr=learning_rate)\n",
        "  model.compile(optimizer=adam, loss=loss, metrics=['acc', 'mse', 'mae'])\n",
        "  model.summary()\n",
        "  \n",
        "  return model\n",
        "\n",
        "Fault_model = model(X_input_shape)"
      ],
      "execution_count": 7,
      "outputs": [
        {
          "output_type": "stream",
          "text": [
            "Model: \"Fault_Classifier\"\n",
            "_________________________________________________________________\n",
            "Layer (type)                 Output Shape              Param #   \n",
            "=================================================================\n",
            "Input (InputLayer)           [(None, 2943, 3)]         0         \n",
            "_________________________________________________________________\n",
            "conv0 (Conv1D)               (None, 2943, 18)          126       \n",
            "_________________________________________________________________\n",
            "pool0 (MaxPooling1D)         (None, 1472, 18)          0         \n",
            "_________________________________________________________________\n",
            "conv1 (Conv1D)               (None, 1472, 36)          1332      \n",
            "_________________________________________________________________\n",
            "pool1 (MaxPooling1D)         (None, 736, 36)           0         \n",
            "_________________________________________________________________\n",
            "conv2 (Conv1D)               (None, 736, 72)           5256      \n",
            "_________________________________________________________________\n",
            "pool2 (MaxPooling1D)         (None, 368, 72)           0         \n",
            "_________________________________________________________________\n",
            "conv3 (Conv1D)               (None, 368, 144)          20880     \n",
            "_________________________________________________________________\n",
            "pool3 (MaxPooling1D)         (None, 184, 144)          0         \n",
            "_________________________________________________________________\n",
            "Flatten_0 (Flatten)          (None, 26496)             0         \n",
            "_________________________________________________________________\n",
            "dropout (Dropout)            (None, 26496)             0         \n",
            "_________________________________________________________________\n",
            "Classifier (Dense)           (None, 5)                 132485    \n",
            "=================================================================\n",
            "Total params: 160,079\n",
            "Trainable params: 160,079\n",
            "Non-trainable params: 0\n",
            "_________________________________________________________________\n"
          ],
          "name": "stdout"
        }
      ]
    },
    {
      "cell_type": "markdown",
      "metadata": {
        "id": "RvvbtQj79onX"
      },
      "source": [
        "## Model Training"
      ]
    },
    {
      "cell_type": "code",
      "metadata": {
        "colab": {
          "base_uri": "https://localhost:8080/"
        },
        "id": "afFAFJmc9oAS",
        "outputId": "b302c71c-142d-4cf4-b1b0-9f119598b5bd"
      },
      "source": [
        "history = Fault_model.fit(x = X_trainset, y = Y_trainset, epochs = epochs, batch_size = batch_size)"
      ],
      "execution_count": 8,
      "outputs": [
        {
          "output_type": "stream",
          "text": [
            "Epoch 1/100\n",
            "20/20 [==============================] - 2s 118ms/step - loss: 1.5242 - acc: 0.5277 - mse: 0.1528 - mae: 0.3114\n",
            "Epoch 2/100\n",
            "20/20 [==============================] - 2s 119ms/step - loss: 1.3571 - acc: 0.5915 - mse: 0.1377 - mae: 0.2830\n",
            "Epoch 3/100\n",
            "20/20 [==============================] - 2s 118ms/step - loss: 1.2520 - acc: 0.5915 - mse: 0.1269 - mae: 0.2493\n",
            "Epoch 4/100\n",
            "20/20 [==============================] - 2s 118ms/step - loss: 1.2146 - acc: 0.5915 - mse: 0.1232 - mae: 0.2455\n",
            "Epoch 5/100\n",
            "20/20 [==============================] - 2s 120ms/step - loss: 1.1819 - acc: 0.5915 - mse: 0.1198 - mae: 0.2448\n",
            "Epoch 6/100\n",
            "20/20 [==============================] - 2s 120ms/step - loss: 1.1492 - acc: 0.5915 - mse: 0.1165 - mae: 0.2390\n",
            "Epoch 7/100\n",
            "20/20 [==============================] - 2s 124ms/step - loss: 1.1128 - acc: 0.5915 - mse: 0.1131 - mae: 0.2302\n",
            "Epoch 8/100\n",
            "20/20 [==============================] - 2s 122ms/step - loss: 1.0739 - acc: 0.5957 - mse: 0.1090 - mae: 0.2319\n",
            "Epoch 9/100\n",
            "20/20 [==============================] - 2s 118ms/step - loss: 1.0335 - acc: 0.6043 - mse: 0.1055 - mae: 0.2225\n",
            "Epoch 10/100\n",
            "20/20 [==============================] - 2s 119ms/step - loss: 0.9807 - acc: 0.6319 - mse: 0.0999 - mae: 0.2173\n",
            "Epoch 11/100\n",
            "20/20 [==============================] - 2s 121ms/step - loss: 0.9267 - acc: 0.6511 - mse: 0.0951 - mae: 0.2083\n",
            "Epoch 12/100\n",
            "20/20 [==============================] - 2s 119ms/step - loss: 0.8901 - acc: 0.6426 - mse: 0.0931 - mae: 0.2008\n",
            "Epoch 13/100\n",
            "20/20 [==============================] - 2s 118ms/step - loss: 0.8314 - acc: 0.6745 - mse: 0.0873 - mae: 0.1923\n",
            "Epoch 14/100\n",
            "20/20 [==============================] - 2s 119ms/step - loss: 0.7948 - acc: 0.6766 - mse: 0.0848 - mae: 0.1842\n",
            "Epoch 15/100\n",
            "20/20 [==============================] - 2s 118ms/step - loss: 0.7430 - acc: 0.7255 - mse: 0.0791 - mae: 0.1783\n",
            "Epoch 16/100\n",
            "20/20 [==============================] - 2s 120ms/step - loss: 0.7187 - acc: 0.7319 - mse: 0.0769 - mae: 0.1779\n",
            "Epoch 17/100\n",
            "20/20 [==============================] - 2s 120ms/step - loss: 0.6898 - acc: 0.7362 - mse: 0.0751 - mae: 0.1630\n",
            "Epoch 18/100\n",
            "20/20 [==============================] - 2s 119ms/step - loss: 0.6309 - acc: 0.7404 - mse: 0.0693 - mae: 0.1590\n",
            "Epoch 19/100\n",
            "20/20 [==============================] - 2s 118ms/step - loss: 0.6306 - acc: 0.7213 - mse: 0.0700 - mae: 0.1555\n",
            "Epoch 20/100\n",
            "20/20 [==============================] - 2s 119ms/step - loss: 0.6049 - acc: 0.7426 - mse: 0.0664 - mae: 0.1529\n",
            "Epoch 21/100\n",
            "20/20 [==============================] - 2s 118ms/step - loss: 0.5455 - acc: 0.7766 - mse: 0.0594 - mae: 0.1437\n",
            "Epoch 22/100\n",
            "20/20 [==============================] - 2s 121ms/step - loss: 0.5692 - acc: 0.7596 - mse: 0.0635 - mae: 0.1440\n",
            "Epoch 23/100\n",
            "20/20 [==============================] - 2s 121ms/step - loss: 0.5154 - acc: 0.7936 - mse: 0.0563 - mae: 0.1366\n",
            "Epoch 24/100\n",
            "20/20 [==============================] - 2s 121ms/step - loss: 0.5141 - acc: 0.7915 - mse: 0.0573 - mae: 0.1361\n",
            "Epoch 25/100\n",
            "20/20 [==============================] - 2s 120ms/step - loss: 0.4774 - acc: 0.8085 - mse: 0.0527 - mae: 0.1233\n",
            "Epoch 26/100\n",
            "20/20 [==============================] - 2s 120ms/step - loss: 0.4521 - acc: 0.8404 - mse: 0.0487 - mae: 0.1217\n",
            "Epoch 27/100\n",
            "20/20 [==============================] - 2s 120ms/step - loss: 0.4242 - acc: 0.8340 - mse: 0.0469 - mae: 0.1145\n",
            "Epoch 28/100\n",
            "20/20 [==============================] - 2s 119ms/step - loss: 0.4053 - acc: 0.8574 - mse: 0.0434 - mae: 0.1132\n",
            "Epoch 29/100\n",
            "20/20 [==============================] - 2s 119ms/step - loss: 0.3962 - acc: 0.8447 - mse: 0.0433 - mae: 0.1077\n",
            "Epoch 30/100\n",
            "20/20 [==============================] - 2s 121ms/step - loss: 0.3940 - acc: 0.8574 - mse: 0.0429 - mae: 0.1110\n",
            "Epoch 31/100\n",
            "20/20 [==============================] - 2s 121ms/step - loss: 0.3760 - acc: 0.8638 - mse: 0.0406 - mae: 0.1047\n",
            "Epoch 32/100\n",
            "20/20 [==============================] - 2s 119ms/step - loss: 0.3702 - acc: 0.8596 - mse: 0.0401 - mae: 0.1015\n",
            "Epoch 33/100\n",
            "20/20 [==============================] - 2s 120ms/step - loss: 0.3571 - acc: 0.8723 - mse: 0.0390 - mae: 0.0998\n",
            "Epoch 34/100\n",
            "20/20 [==============================] - 2s 120ms/step - loss: 0.3457 - acc: 0.8809 - mse: 0.0379 - mae: 0.0950\n",
            "Epoch 35/100\n",
            "20/20 [==============================] - 2s 119ms/step - loss: 0.3271 - acc: 0.8851 - mse: 0.0346 - mae: 0.0927\n",
            "Epoch 36/100\n",
            "20/20 [==============================] - 2s 121ms/step - loss: 0.3401 - acc: 0.8702 - mse: 0.0376 - mae: 0.0956\n",
            "Epoch 37/100\n",
            "20/20 [==============================] - 2s 119ms/step - loss: 0.3244 - acc: 0.8766 - mse: 0.0350 - mae: 0.0929\n",
            "Epoch 38/100\n",
            "20/20 [==============================] - 2s 120ms/step - loss: 0.2899 - acc: 0.8979 - mse: 0.0307 - mae: 0.0839\n",
            "Epoch 39/100\n",
            "20/20 [==============================] - 2s 118ms/step - loss: 0.2857 - acc: 0.9021 - mse: 0.0304 - mae: 0.0827\n",
            "Epoch 40/100\n",
            "20/20 [==============================] - 2s 119ms/step - loss: 0.2888 - acc: 0.9000 - mse: 0.0315 - mae: 0.0827\n",
            "Epoch 41/100\n",
            "20/20 [==============================] - 2s 119ms/step - loss: 0.2703 - acc: 0.9064 - mse: 0.0283 - mae: 0.0790\n",
            "Epoch 42/100\n",
            "20/20 [==============================] - 2s 120ms/step - loss: 0.2641 - acc: 0.9128 - mse: 0.0281 - mae: 0.0776\n",
            "Epoch 43/100\n",
            "20/20 [==============================] - 2s 119ms/step - loss: 0.2607 - acc: 0.9085 - mse: 0.0273 - mae: 0.0757\n",
            "Epoch 44/100\n",
            "20/20 [==============================] - 2s 119ms/step - loss: 0.2582 - acc: 0.9085 - mse: 0.0281 - mae: 0.0751\n",
            "Epoch 45/100\n",
            "20/20 [==============================] - 2s 121ms/step - loss: 0.2585 - acc: 0.9043 - mse: 0.0276 - mae: 0.0759\n",
            "Epoch 46/100\n",
            "20/20 [==============================] - 2s 121ms/step - loss: 0.2526 - acc: 0.9149 - mse: 0.0269 - mae: 0.0719\n",
            "Epoch 47/100\n",
            "20/20 [==============================] - 2s 119ms/step - loss: 0.2270 - acc: 0.9319 - mse: 0.0229 - mae: 0.0685\n",
            "Epoch 48/100\n",
            "20/20 [==============================] - 2s 118ms/step - loss: 0.2184 - acc: 0.9426 - mse: 0.0222 - mae: 0.0662\n",
            "Epoch 49/100\n",
            "20/20 [==============================] - 2s 120ms/step - loss: 0.2209 - acc: 0.9213 - mse: 0.0231 - mae: 0.0666\n",
            "Epoch 50/100\n",
            "20/20 [==============================] - 2s 120ms/step - loss: 0.2331 - acc: 0.9191 - mse: 0.0253 - mae: 0.0666\n",
            "Epoch 51/100\n",
            "20/20 [==============================] - 2s 119ms/step - loss: 0.2034 - acc: 0.9532 - mse: 0.0200 - mae: 0.0623\n",
            "Epoch 52/100\n",
            "20/20 [==============================] - 2s 119ms/step - loss: 0.1948 - acc: 0.9447 - mse: 0.0196 - mae: 0.0585\n",
            "Epoch 53/100\n",
            "20/20 [==============================] - 2s 118ms/step - loss: 0.2033 - acc: 0.9255 - mse: 0.0216 - mae: 0.0613\n",
            "Epoch 54/100\n",
            "20/20 [==============================] - 2s 120ms/step - loss: 0.2044 - acc: 0.9213 - mse: 0.0217 - mae: 0.0616\n",
            "Epoch 55/100\n",
            "20/20 [==============================] - 2s 121ms/step - loss: 0.2003 - acc: 0.9426 - mse: 0.0207 - mae: 0.0597\n",
            "Epoch 56/100\n",
            "20/20 [==============================] - 2s 119ms/step - loss: 0.1724 - acc: 0.9511 - mse: 0.0168 - mae: 0.0545\n",
            "Epoch 57/100\n",
            "20/20 [==============================] - 2s 119ms/step - loss: 0.1832 - acc: 0.9447 - mse: 0.0189 - mae: 0.0550\n",
            "Epoch 58/100\n",
            "20/20 [==============================] - 2s 120ms/step - loss: 0.1875 - acc: 0.9426 - mse: 0.0190 - mae: 0.0573\n",
            "Epoch 59/100\n",
            "20/20 [==============================] - 2s 122ms/step - loss: 0.1591 - acc: 0.9511 - mse: 0.0150 - mae: 0.0492\n",
            "Epoch 60/100\n",
            "20/20 [==============================] - 2s 121ms/step - loss: 0.1629 - acc: 0.9489 - mse: 0.0159 - mae: 0.0507\n",
            "Epoch 61/100\n",
            "20/20 [==============================] - 2s 119ms/step - loss: 0.1515 - acc: 0.9660 - mse: 0.0147 - mae: 0.0477\n",
            "Epoch 62/100\n",
            "20/20 [==============================] - 2s 119ms/step - loss: 0.1526 - acc: 0.9617 - mse: 0.0151 - mae: 0.0473\n",
            "Epoch 63/100\n",
            "20/20 [==============================] - 2s 121ms/step - loss: 0.1416 - acc: 0.9660 - mse: 0.0134 - mae: 0.0456\n",
            "Epoch 64/100\n",
            "20/20 [==============================] - 2s 120ms/step - loss: 0.1467 - acc: 0.9404 - mse: 0.0152 - mae: 0.0452\n",
            "Epoch 65/100\n",
            "20/20 [==============================] - 2s 119ms/step - loss: 0.1583 - acc: 0.9532 - mse: 0.0163 - mae: 0.0477\n",
            "Epoch 66/100\n",
            "20/20 [==============================] - 2s 120ms/step - loss: 0.1442 - acc: 0.9681 - mse: 0.0134 - mae: 0.0458\n",
            "Epoch 67/100\n",
            "20/20 [==============================] - 2s 121ms/step - loss: 0.1478 - acc: 0.9574 - mse: 0.0151 - mae: 0.0443\n",
            "Epoch 68/100\n",
            "20/20 [==============================] - 2s 119ms/step - loss: 0.1460 - acc: 0.9511 - mse: 0.0146 - mae: 0.0448\n",
            "Epoch 69/100\n",
            "20/20 [==============================] - 2s 119ms/step - loss: 0.1272 - acc: 0.9660 - mse: 0.0117 - mae: 0.0408\n",
            "Epoch 70/100\n",
            "20/20 [==============================] - 2s 119ms/step - loss: 0.1288 - acc: 0.9660 - mse: 0.0124 - mae: 0.0403\n",
            "Epoch 71/100\n",
            "20/20 [==============================] - 2s 120ms/step - loss: 0.1165 - acc: 0.9702 - mse: 0.0106 - mae: 0.0377\n",
            "Epoch 72/100\n",
            "20/20 [==============================] - 2s 121ms/step - loss: 0.1274 - acc: 0.9660 - mse: 0.0124 - mae: 0.0395\n",
            "Epoch 73/100\n",
            "20/20 [==============================] - 2s 120ms/step - loss: 0.1202 - acc: 0.9745 - mse: 0.0111 - mae: 0.0383\n",
            "Epoch 74/100\n",
            "20/20 [==============================] - 2s 120ms/step - loss: 0.1340 - acc: 0.9574 - mse: 0.0136 - mae: 0.0412\n",
            "Epoch 75/100\n",
            "20/20 [==============================] - 2s 121ms/step - loss: 0.1193 - acc: 0.9702 - mse: 0.0113 - mae: 0.0375\n",
            "Epoch 76/100\n",
            "20/20 [==============================] - 2s 120ms/step - loss: 0.1320 - acc: 0.9660 - mse: 0.0133 - mae: 0.0408\n",
            "Epoch 77/100\n",
            "20/20 [==============================] - 2s 122ms/step - loss: 0.1118 - acc: 0.9745 - mse: 0.0103 - mae: 0.0360\n",
            "Epoch 78/100\n",
            "20/20 [==============================] - 2s 124ms/step - loss: 0.1004 - acc: 0.9830 - mse: 0.0088 - mae: 0.0332\n",
            "Epoch 79/100\n",
            "20/20 [==============================] - 2s 124ms/step - loss: 0.1035 - acc: 0.9787 - mse: 0.0093 - mae: 0.0333\n",
            "Epoch 80/100\n",
            "20/20 [==============================] - 2s 123ms/step - loss: 0.1011 - acc: 0.9787 - mse: 0.0091 - mae: 0.0332\n",
            "Epoch 81/100\n",
            "20/20 [==============================] - 2s 123ms/step - loss: 0.0984 - acc: 0.9745 - mse: 0.0087 - mae: 0.0323\n",
            "Epoch 82/100\n",
            "20/20 [==============================] - 2s 125ms/step - loss: 0.1005 - acc: 0.9745 - mse: 0.0093 - mae: 0.0328\n",
            "Epoch 83/100\n",
            "20/20 [==============================] - 2s 124ms/step - loss: 0.1006 - acc: 0.9809 - mse: 0.0092 - mae: 0.0325\n",
            "Epoch 84/100\n",
            "20/20 [==============================] - 2s 122ms/step - loss: 0.1107 - acc: 0.9660 - mse: 0.0110 - mae: 0.0339\n",
            "Epoch 85/100\n",
            "20/20 [==============================] - 2s 120ms/step - loss: 0.0907 - acc: 0.9809 - mse: 0.0083 - mae: 0.0295\n",
            "Epoch 86/100\n",
            "20/20 [==============================] - 2s 120ms/step - loss: 0.1086 - acc: 0.9745 - mse: 0.0107 - mae: 0.0337\n",
            "Epoch 87/100\n",
            "20/20 [==============================] - 2s 120ms/step - loss: 0.0788 - acc: 0.9894 - mse: 0.0061 - mae: 0.0271\n",
            "Epoch 88/100\n",
            "20/20 [==============================] - 2s 121ms/step - loss: 0.0992 - acc: 0.9681 - mse: 0.0097 - mae: 0.0309\n",
            "Epoch 89/100\n",
            "20/20 [==============================] - 2s 121ms/step - loss: 0.0860 - acc: 0.9851 - mse: 0.0076 - mae: 0.0280\n",
            "Epoch 90/100\n",
            "20/20 [==============================] - 2s 120ms/step - loss: 0.0910 - acc: 0.9766 - mse: 0.0083 - mae: 0.0297\n",
            "Epoch 91/100\n",
            "20/20 [==============================] - 2s 121ms/step - loss: 0.0894 - acc: 0.9745 - mse: 0.0084 - mae: 0.0282\n",
            "Epoch 92/100\n",
            "20/20 [==============================] - 2s 121ms/step - loss: 0.0862 - acc: 0.9787 - mse: 0.0081 - mae: 0.0274\n",
            "Epoch 93/100\n",
            "20/20 [==============================] - 2s 121ms/step - loss: 0.0804 - acc: 0.9872 - mse: 0.0065 - mae: 0.0265\n",
            "Epoch 94/100\n",
            "20/20 [==============================] - 2s 122ms/step - loss: 0.0770 - acc: 0.9809 - mse: 0.0067 - mae: 0.0247\n",
            "Epoch 95/100\n",
            "20/20 [==============================] - 2s 121ms/step - loss: 0.0741 - acc: 0.9851 - mse: 0.0060 - mae: 0.0245\n",
            "Epoch 96/100\n",
            "20/20 [==============================] - 2s 121ms/step - loss: 0.0797 - acc: 0.9809 - mse: 0.0072 - mae: 0.0257\n",
            "Epoch 97/100\n",
            "20/20 [==============================] - 4s 207ms/step - loss: 0.0844 - acc: 0.9872 - mse: 0.0075 - mae: 0.0274\n",
            "Epoch 98/100\n",
            "20/20 [==============================] - 4s 212ms/step - loss: 0.0672 - acc: 0.9894 - mse: 0.0055 - mae: 0.0224\n",
            "Epoch 99/100\n",
            "20/20 [==============================] - 4s 182ms/step - loss: 0.0796 - acc: 0.9723 - mse: 0.0076 - mae: 0.0246\n",
            "Epoch 100/100\n",
            "20/20 [==============================] - 2s 121ms/step - loss: 0.0700 - acc: 0.9894 - mse: 0.0060 - mae: 0.0233\n"
          ],
          "name": "stdout"
        }
      ]
    },
    {
      "cell_type": "markdown",
      "metadata": {
        "id": "Z-ePlaY4q6VY"
      },
      "source": [
        "## Model performance"
      ]
    },
    {
      "cell_type": "code",
      "metadata": {
        "colab": {
          "base_uri": "https://localhost:8080/",
          "height": 573
        },
        "id": "Lq7UNIWO59l7",
        "outputId": "f2af1167-8c3c-42d6-fb60-9ad27ee5e0b2"
      },
      "source": [
        "#  \"Accuracy\"\n",
        "plt.plot(history.history['acc'])\n",
        "plt.title('model accuracy')\n",
        "plt.ylabel('accuracy')\n",
        "plt.xlabel('epoch')\n",
        "plt.legend(['train'], loc='upper left')\n",
        "plt.grid()\n",
        "plt.show()\n",
        "\n",
        "# \"Loss\"\n",
        "plt.plot(history.history['loss'])\n",
        "plt.plot(history.history['mse'])\n",
        "plt.plot(history.history['mae'])\n",
        "plt.title('Metrics performance')\n",
        "plt.ylabel('loss')\n",
        "plt.xlabel('epoch')\n",
        "plt.legend(['loss', 'mse', 'mae'], loc='upper left')\n",
        "plt.grid()\n",
        "plt.show()"
      ],
      "execution_count": 9,
      "outputs": [
        {
          "output_type": "display_data",
          "data": {
            "image/png": "[encoded data removed]",
            "text/plain": [
              "<Figure size 432x288 with 1 Axes>"
            ]
          },
          "metadata": {
            "tags": [],
            "needs_background": "light"
          }
        },
        {
          "output_type": "display_data",
          "data": {
            "image/png": "[encoded data removed]",
            "text/plain": [
              "<Figure size 432x288 with 1 Axes>"
            ]
          },
          "metadata": {
            "tags": [],
            "needs_background": "light"
          }
        }
      ]
    },
    {
      "cell_type": "markdown",
      "metadata": {
        "id": "7fQv08rBDBBF"
      },
      "source": [
        "## Model Validation"
      ]
    },
    {
      "cell_type": "code",
      "metadata": {
        "colab": {
          "base_uri": "https://localhost:8080/"
        },
        "id": "kxpiNOshDETM",
        "outputId": "17db6e1f-e0d6-47ac-e079-013147685f05"
      },
      "source": [
        "preds = Fault_model.evaluate(x = X_testset, y = Y_testset)\n",
        "### END CODE HERE ###\n",
        "print()\n",
        "print (\"Loss = \" + str(preds[0]))\n",
        "print (\"Test Accuracy = \" + str(preds[1]))"
      ],
      "execution_count": 10,
      "outputs": [
        {
          "output_type": "stream",
          "text": [
            "7/7 [==============================] - 0s 36ms/step - loss: 0.0850 - acc: 0.9752 - mse: 0.0086 - mae: 0.0231\n",
            "\n",
            "Loss = 0.08500667661428452\n",
            "Test Accuracy = 0.9752475023269653\n"
          ],
          "name": "stdout"
        }
      ]
    },
    {
      "cell_type": "markdown",
      "metadata": {
        "id": "pIB9Mzefveur"
      },
      "source": [
        "## Final Stage: Exporting Trained Model"
      ]
    },
    {
      "cell_type": "code",
      "metadata": {
        "id": "f4ondfMivhrv"
      },
      "source": [
        "# Scheme model in png\n",
        "from keras.utils import plot_model\n",
        "plot_model(Fault_model, to_file='./model.png', show_shapes=True,)\n",
        "# Save the entire model to a HDF5 file.\n",
        "Fault_model.save('Fault_Classifier_model.h5')\n"
      ],
      "execution_count": 11,
      "outputs": []
    },
    {
      "cell_type": "markdown",
      "metadata": {
        "id": "CmhtTZ8yDnR2"
      },
      "source": [
        "Predicción de muestras"
      ]
    },
    {
      "cell_type": "code",
      "metadata": {
        "colab": {
          "base_uri": "https://localhost:8080/"
        },
        "id": "xTUpJUDYDm4v",
        "outputId": "a42f4822-62cb-46a5-c29f-0a4781d42e0c"
      },
      "source": [
        "x_1 = X_testset[10]\n",
        "y_1 = Y_testset[10]\n",
        "print(x_1.shape,y_1)\n",
        "print(np.round(Fault_model.predict(X_testset)[10]).shape)"
      ],
      "execution_count": 13,
      "outputs": [
        {
          "output_type": "stream",
          "text": [
            "(2943, 3) [0 0 1 0 0]\n",
            "(5,)\n"
          ],
          "name": "stdout"
        }
      ]
    }
  ]
}