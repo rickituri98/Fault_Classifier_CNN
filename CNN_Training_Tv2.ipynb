{
  "nbformat": 4,
  "nbformat_minor": 0,
  "metadata": {
    "colab": {
      "name": "CNN_Training_Tv2.ipynb",
      "provenance": [],
      "collapsed_sections": [],
      "toc_visible": true,
      "authorship_tag": "ABX9TyNQfWA6ryI4i6G3/0RA4Fd5",
      "include_colab_link": true
    },
    "kernelspec": {
      "display_name": "Python 3",
      "name": "python3"
    }
  },
  "cells": [
    {
      "cell_type": "markdown",
      "metadata": {
        "id": "view-in-github",
        "colab_type": "text"
      },
      "source": [
        "<a href=\"https://colab.research.google.com/github/rickituri98/Fault_Classifier_CNN/blob/master/CNN_Training_Tv2.ipynb\" target=\"_parent\"><img src=\"https://colab.research.google.com/assets/colab-badge.svg\" alt=\"Open In Colab\"/></a>"
      ]
    },
    {
      "cell_type": "markdown",
      "metadata": {
        "id": "fuv3nzSbiKCI"
      },
      "source": [
        "## Training and Validation Proccess - Convolutional Neural Network"
      ]
    },
    {
      "cell_type": "code",
      "metadata": {
        "id": "Bqib0bvn-Ddy",
        "colab": {
          "base_uri": "https://localhost:8080/"
        },
        "outputId": "9041979e-1d45-4a73-8cad-fb01eef75151"
      },
      "source": [
        "!npx degit rickituri98/Fault_Classifier_CNN/Outputs_Data_Handling -f"
      ],
      "execution_count": 1,
      "outputs": [
        {
          "output_type": "stream",
          "text": [
            "\u001b[K\u001b[?25hnpx: installed 1 in 2.781s\n",
            "\u001b[36m> destination directory is not empty. Using --force, continuing\u001b[39m\n",
            "\u001b[36m> cloned \u001b[1mrickituri98/Fault_Classifier_CNN\u001b[22m#\u001b[1mmaster\u001b[22m\u001b[39m\n"
          ],
          "name": "stdout"
        }
      ]
    },
    {
      "cell_type": "markdown",
      "metadata": {
        "id": "beJdVcAripU3"
      },
      "source": [
        "## Importing dataset and modules"
      ]
    },
    {
      "cell_type": "code",
      "metadata": {
        "id": "aCuGUzkpjiP7"
      },
      "source": [
        "import zipfile\n",
        "with zipfile.ZipFile(\"/content/Training&Test_set.zip\",\"r\") as zip_ref:\n",
        "    zip_ref.extractall()"
      ],
      "execution_count": 2,
      "outputs": []
    },
    {
      "cell_type": "code",
      "metadata": {
        "colab": {
          "base_uri": "https://localhost:8080/"
        },
        "id": "0pUjGXhwAFht",
        "outputId": "dcf649d9-4070-4b11-e58d-7789b143ae8f"
      },
      "source": [
        "!pip install -q pyyaml h5py\n",
        "import scipy.io as sio\n",
        "import matplotlib.pyplot as plt\n",
        "import time\n",
        "import os\n",
        "import numpy as np\n",
        "\n",
        "TrainTest_dict = sio.loadmat('/content/Training&Test_set.mat')\n",
        "X_trainset = TrainTest_dict.get(\"X_train\")\n",
        "Y_trainset = TrainTest_dict.get(\"Y_train\")\n",
        "X_testset = TrainTest_dict.get(\"X_test\")\n",
        "Y_testset = TrainTest_dict.get(\"Y_test\")\n",
        "print(type(TrainTest_dict), type(X_trainset), type(Y_trainset), len(Y_trainset))"
      ],
      "execution_count": 3,
      "outputs": [
        {
          "output_type": "stream",
          "text": [
            "<class 'dict'> <class 'numpy.ndarray'> <class 'numpy.ndarray'> 471\n"
          ],
          "name": "stdout"
        }
      ]
    },
    {
      "cell_type": "code",
      "metadata": {
        "colab": {
          "base_uri": "https://localhost:8080/"
        },
        "id": "itaf9dqWGbH9",
        "outputId": "c3c8cb15-cef8-45a9-def0-0190ab4c5cb7"
      },
      "source": [
        "print(X_trainset.shape, Y_testset.shape)"
      ],
      "execution_count": 5,
      "outputs": [
        {
          "output_type": "stream",
          "text": [
            "(471, 2943, 3) (201, 1)\n"
          ],
          "name": "stdout"
        }
      ]
    },
    {
      "cell_type": "markdown",
      "metadata": {
        "id": "_AJLuaOrIkVO"
      },
      "source": [
        "ONE HOT ENCODING - Y Labels"
      ]
    },
    {
      "cell_type": "code",
      "metadata": {
        "colab": {
          "base_uri": "https://localhost:8080/"
        },
        "id": "QJlzRt4EKcZc",
        "outputId": "ed8ef6fd-cee4-4dcc-fa0c-93c674cca893"
      },
      "source": [
        "from keras.utils import to_categorical\n",
        "Y_trainset = Y_trainset.reshape((len(Y_trainset),))\n",
        "Y_testset = Y_testset.reshape((len(Y_testset),))\n",
        "Y_trainvalues = np.array(Y_trainset)\n",
        "Y_testvalues = np.array(Y_testset)\n",
        "Y_onehot_train = to_categorical(Y_trainvalues)\n",
        "Y_onehot_test = to_categorical(Y_testvalues)\n",
        "\n",
        "## devolver a la forma inicial de Y label\n",
        "inverted = np.argmax(Y_onehot_train[10]) # se varía el num de evento\n",
        "print(inverted)"
      ],
      "execution_count": 16,
      "outputs": [
        {
          "output_type": "stream",
          "text": [
            "1\n"
          ],
          "name": "stdout"
        }
      ]
    },
    {
      "cell_type": "code",
      "metadata": {
        "id": "iUo0LM9hivoj",
        "colab": {
          "base_uri": "https://localhost:8080/",
          "height": 35
        },
        "outputId": "02f9221b-cb10-4dd8-a92d-43ef73cdebf5"
      },
      "source": [
        "import tensorflow as tf\n",
        "from tensorflow import keras\n",
        "from keras.layers import Input, Dense, Activation, BatchNormalization, Flatten, Conv1D\n",
        "from keras.layers import MaxPooling1D, Dropout, GlobalMaxPooling1D\n",
        "from keras.models import Model\n",
        "from sklearn.model_selection import train_test_split\n",
        "from keras.utils import layer_utils\n",
        "from keras.utils import plot_model\n",
        "from keras.optimizers import Adam\n",
        "tf.__version__"
      ],
      "execution_count": 18,
      "outputs": [
        {
          "output_type": "execute_result",
          "data": {
            "application/vnd.google.colaboratory.intrinsic+json": {
              "type": "string"
            },
            "text/plain": [
              "'2.3.0'"
            ]
          },
          "metadata": {
            "tags": []
          },
          "execution_count": 18
        }
      ]
    },
    {
      "cell_type": "markdown",
      "metadata": {
        "id": "KxPtdOC3pu1T"
      },
      "source": [
        "## Defining Hyperparameters"
      ]
    },
    {
      "cell_type": "code",
      "metadata": {
        "id": "_40CeSLSo0BF"
      },
      "source": [
        "batch_size = 24                     # Batch size\n",
        "seq_len = X_trainset[0].shape[0]          # Number of steps\n",
        "X_input_shape = X_trainset[0].shape\n",
        "learning_rate = 0.0001\n",
        "epochs = 100\n",
        "n_classes = 5\n",
        "n_channels = 3\n",
        "activation ='relu'\n",
        "loss = 'categorical_crossentropy'\n",
        "#X_tr, X_vld, lab_tr, lab_vld = train_test_split(X_trainset, Y_trainset, stratify = Y_trainset, random_state = 123)\n",
        "#print(X_input_shape, X_trainset.shape[1:])"
      ],
      "execution_count": 19,
      "outputs": []
    },
    {
      "cell_type": "markdown",
      "metadata": {
        "id": "_ywXl_Rup4RZ"
      },
      "source": [
        "## Model Creation"
      ]
    },
    {
      "cell_type": "code",
      "metadata": {
        "id": "CGpT-88Rp3Yt",
        "colab": {
          "base_uri": "https://localhost:8080/"
        },
        "outputId": "de8cb50c-8a80-4ae9-c227-b37552bf4f12"
      },
      "source": [
        "def model(input_shape):\n",
        "  X_input = Input(input_shape, name ='Input')\n",
        "\n",
        "  #First Multi-Layer: CONV->RELU\n",
        "  X = Conv1D(filters=18, kernel_size=2, strides=1, padding='same', name ='conv0', activation = activation)(X_input)\n",
        "  X = MaxPooling1D(pool_size=2, strides=2, padding='same', name ='pool0')(X)\n",
        "\n",
        "  # Second Multi-Layer: CONV->RELU\n",
        "  X = Conv1D(filters=36, kernel_size=2, strides=1, padding='same', name ='conv1', activation = activation)(X)\n",
        "  X = MaxPooling1D(pool_size=2, strides=2, padding='same', name ='pool1')(X)\n",
        "\n",
        "  # Third Multi-Layer: CONV->RELU\n",
        "  X = Conv1D(filters=72, kernel_size=2, strides=1, padding='same', name ='conv2', activation = activation)(X)\n",
        "  X = MaxPooling1D(pool_size=2, strides=2, padding='same', name ='pool2')(X)\n",
        "\n",
        "  # Fourth Multi-Layer: CONV->RELU\n",
        "  X = Conv1D(filters=144, kernel_size=2, strides=1, padding='same', name ='conv3', activation = activation)(X)\n",
        "  X = MaxPooling1D(pool_size=2, strides=2, padding='same', name ='pool3')(X)\n",
        "\n",
        "  # Fully Connected Layer\n",
        "  X_Flatten = Flatten(name ='Flatten_0')(X)\n",
        "  #X_Dense = Dense(X.shape[1]*X.shape[2], activation=activation, name='fully_connected_layer')(X_Flatten)\n",
        "  #X_Dropout = Dropout(0.5, name ='dropout')(X_Dense)\n",
        "  X_Dropout = Dropout(0.5, name ='dropout')(X_Flatten)\n",
        "  # Prediction\n",
        "  X_Output = Dense(n_classes, activation='softmax',  name ='Classifier')(X_Dropout)\n",
        "\n",
        "  model = Model(inputs=X_input, outputs=X_Output, name = 'Fault_Classifier')\n",
        "  adam = Adam(lr=learning_rate)\n",
        "  model.compile(optimizer=adam, loss=loss, metrics=['acc', 'mse', 'mae'])\n",
        "  model.summary()\n",
        "  \n",
        "  return model\n",
        "\n",
        "Fault_model = model(X_input_shape)"
      ],
      "execution_count": 20,
      "outputs": [
        {
          "output_type": "stream",
          "text": [
            "Model: \"Fault_Classifier\"\n",
            "_________________________________________________________________\n",
            "Layer (type)                 Output Shape              Param #   \n",
            "=================================================================\n",
            "Input (InputLayer)           [(None, 2943, 3)]         0         \n",
            "_________________________________________________________________\n",
            "conv0 (Conv1D)               (None, 2943, 18)          126       \n",
            "_________________________________________________________________\n",
            "pool0 (MaxPooling1D)         (None, 1472, 18)          0         \n",
            "_________________________________________________________________\n",
            "conv1 (Conv1D)               (None, 1472, 36)          1332      \n",
            "_________________________________________________________________\n",
            "pool1 (MaxPooling1D)         (None, 736, 36)           0         \n",
            "_________________________________________________________________\n",
            "conv2 (Conv1D)               (None, 736, 72)           5256      \n",
            "_________________________________________________________________\n",
            "pool2 (MaxPooling1D)         (None, 368, 72)           0         \n",
            "_________________________________________________________________\n",
            "conv3 (Conv1D)               (None, 368, 144)          20880     \n",
            "_________________________________________________________________\n",
            "pool3 (MaxPooling1D)         (None, 184, 144)          0         \n",
            "_________________________________________________________________\n",
            "Flatten_0 (Flatten)          (None, 26496)             0         \n",
            "_________________________________________________________________\n",
            "dropout (Dropout)            (None, 26496)             0         \n",
            "_________________________________________________________________\n",
            "Classifier (Dense)           (None, 5)                 132485    \n",
            "=================================================================\n",
            "Total params: 160,079\n",
            "Trainable params: 160,079\n",
            "Non-trainable params: 0\n",
            "_________________________________________________________________\n"
          ],
          "name": "stdout"
        }
      ]
    },
    {
      "cell_type": "markdown",
      "metadata": {
        "id": "RvvbtQj79onX"
      },
      "source": [
        "## Model Training"
      ]
    },
    {
      "cell_type": "code",
      "metadata": {
        "colab": {
          "base_uri": "https://localhost:8080/"
        },
        "id": "afFAFJmc9oAS",
        "outputId": "71aef3a2-38ad-4f06-e555-ee0af7f5b12c"
      },
      "source": [
        "history = Fault_model.fit(x = X_trainset, y = Y_onehot_train, epochs = epochs, batch_size = batch_size)"
      ],
      "execution_count": 21,
      "outputs": [
        {
          "output_type": "stream",
          "text": [
            "Epoch 1/100\n",
            "20/20 [==============================] - 2s 112ms/step - loss: 1.5257 - acc: 0.5223 - mse: 0.1529 - mae: 0.3117\n",
            "Epoch 2/100\n",
            "20/20 [==============================] - 2s 115ms/step - loss: 1.3295 - acc: 0.5945 - mse: 0.1343 - mae: 0.2812\n",
            "Epoch 3/100\n",
            "20/20 [==============================] - 2s 114ms/step - loss: 1.2425 - acc: 0.5945 - mse: 0.1258 - mae: 0.2424\n",
            "Epoch 4/100\n",
            "20/20 [==============================] - 2s 115ms/step - loss: 1.2034 - acc: 0.5945 - mse: 0.1217 - mae: 0.2426\n",
            "Epoch 5/100\n",
            "20/20 [==============================] - 2s 115ms/step - loss: 1.1678 - acc: 0.5945 - mse: 0.1183 - mae: 0.2467\n",
            "Epoch 6/100\n",
            "20/20 [==============================] - 2s 115ms/step - loss: 1.1388 - acc: 0.5945 - mse: 0.1159 - mae: 0.2323\n",
            "Epoch 7/100\n",
            "20/20 [==============================] - 2s 115ms/step - loss: 1.0981 - acc: 0.5945 - mse: 0.1114 - mae: 0.2381\n",
            "Epoch 8/100\n",
            "20/20 [==============================] - 2s 115ms/step - loss: 1.0420 - acc: 0.5987 - mse: 0.1063 - mae: 0.2211\n",
            "Epoch 9/100\n",
            "20/20 [==============================] - 2s 115ms/step - loss: 0.9980 - acc: 0.6136 - mse: 0.1019 - mae: 0.2243\n",
            "Epoch 10/100\n",
            "20/20 [==============================] - 2s 114ms/step - loss: 0.9511 - acc: 0.6263 - mse: 0.0982 - mae: 0.2091\n",
            "Epoch 11/100\n",
            "20/20 [==============================] - 2s 114ms/step - loss: 0.8854 - acc: 0.6433 - mse: 0.0923 - mae: 0.2006\n",
            "Epoch 12/100\n",
            "20/20 [==============================] - 2s 115ms/step - loss: 0.8304 - acc: 0.6858 - mse: 0.0860 - mae: 0.1959\n",
            "Epoch 13/100\n",
            "20/20 [==============================] - 2s 117ms/step - loss: 0.7929 - acc: 0.6879 - mse: 0.0849 - mae: 0.1839\n",
            "Epoch 14/100\n",
            "20/20 [==============================] - 2s 116ms/step - loss: 0.7521 - acc: 0.7155 - mse: 0.0799 - mae: 0.1829\n",
            "Epoch 15/100\n",
            "20/20 [==============================] - 2s 116ms/step - loss: 0.6997 - acc: 0.7304 - mse: 0.0754 - mae: 0.1695\n",
            "Epoch 16/100\n",
            "20/20 [==============================] - 2s 115ms/step - loss: 0.6524 - acc: 0.7558 - mse: 0.0707 - mae: 0.1630\n",
            "Epoch 17/100\n",
            "20/20 [==============================] - 2s 119ms/step - loss: 0.6190 - acc: 0.7643 - mse: 0.0668 - mae: 0.1578\n",
            "Epoch 18/100\n",
            "20/20 [==============================] - 2s 121ms/step - loss: 0.5821 - acc: 0.7622 - mse: 0.0634 - mae: 0.1488\n",
            "Epoch 19/100\n",
            "20/20 [==============================] - 2s 119ms/step - loss: 0.5735 - acc: 0.7707 - mse: 0.0635 - mae: 0.1470\n",
            "Epoch 20/100\n",
            "20/20 [==============================] - 2s 116ms/step - loss: 0.5334 - acc: 0.7919 - mse: 0.0584 - mae: 0.1398\n",
            "Epoch 21/100\n",
            "20/20 [==============================] - 2s 118ms/step - loss: 0.5022 - acc: 0.7877 - mse: 0.0551 - mae: 0.1292\n",
            "Epoch 22/100\n",
            "20/20 [==============================] - 2s 118ms/step - loss: 0.4836 - acc: 0.8132 - mse: 0.0528 - mae: 0.1311\n",
            "Epoch 23/100\n",
            "20/20 [==============================] - 2s 116ms/step - loss: 0.4729 - acc: 0.7983 - mse: 0.0530 - mae: 0.1251\n",
            "Epoch 24/100\n",
            "20/20 [==============================] - 2s 116ms/step - loss: 0.4436 - acc: 0.8280 - mse: 0.0491 - mae: 0.1214\n",
            "Epoch 25/100\n",
            "20/20 [==============================] - 2s 115ms/step - loss: 0.4107 - acc: 0.8535 - mse: 0.0441 - mae: 0.1154\n",
            "Epoch 26/100\n",
            "20/20 [==============================] - 2s 117ms/step - loss: 0.4107 - acc: 0.8450 - mse: 0.0444 - mae: 0.1117\n",
            "Epoch 27/100\n",
            "20/20 [==============================] - 2s 119ms/step - loss: 0.3916 - acc: 0.8790 - mse: 0.0415 - mae: 0.1103\n",
            "Epoch 28/100\n",
            "20/20 [==============================] - 2s 116ms/step - loss: 0.3808 - acc: 0.8365 - mse: 0.0429 - mae: 0.1031\n",
            "Epoch 29/100\n",
            "20/20 [==============================] - 2s 117ms/step - loss: 0.3605 - acc: 0.8790 - mse: 0.0390 - mae: 0.1020\n",
            "Epoch 30/100\n",
            "20/20 [==============================] - 2s 119ms/step - loss: 0.3464 - acc: 0.8832 - mse: 0.0367 - mae: 0.0975\n",
            "Epoch 31/100\n",
            "20/20 [==============================] - 2s 118ms/step - loss: 0.3205 - acc: 0.8896 - mse: 0.0339 - mae: 0.0916\n",
            "Epoch 32/100\n",
            "20/20 [==============================] - 2s 116ms/step - loss: 0.3157 - acc: 0.8832 - mse: 0.0336 - mae: 0.0903\n",
            "Epoch 33/100\n",
            "20/20 [==============================] - 2s 117ms/step - loss: 0.3118 - acc: 0.8875 - mse: 0.0336 - mae: 0.0886\n",
            "Epoch 34/100\n",
            "20/20 [==============================] - 2s 119ms/step - loss: 0.3061 - acc: 0.8938 - mse: 0.0327 - mae: 0.0853\n",
            "Epoch 35/100\n",
            "20/20 [==============================] - 2s 117ms/step - loss: 0.2847 - acc: 0.9130 - mse: 0.0295 - mae: 0.0825\n",
            "Epoch 36/100\n",
            "20/20 [==============================] - 2s 119ms/step - loss: 0.2783 - acc: 0.9130 - mse: 0.0292 - mae: 0.0819\n",
            "Epoch 37/100\n",
            "20/20 [==============================] - 2s 115ms/step - loss: 0.2748 - acc: 0.9108 - mse: 0.0297 - mae: 0.0790\n",
            "Epoch 38/100\n",
            "20/20 [==============================] - 2s 119ms/step - loss: 0.2441 - acc: 0.9321 - mse: 0.0250 - mae: 0.0715\n",
            "Epoch 39/100\n",
            "20/20 [==============================] - 2s 117ms/step - loss: 0.2543 - acc: 0.9130 - mse: 0.0267 - mae: 0.0740\n",
            "Epoch 40/100\n",
            "20/20 [==============================] - 2s 117ms/step - loss: 0.2578 - acc: 0.9172 - mse: 0.0277 - mae: 0.0751\n",
            "Epoch 41/100\n",
            "20/20 [==============================] - 2s 116ms/step - loss: 0.2516 - acc: 0.9087 - mse: 0.0275 - mae: 0.0722\n",
            "Epoch 42/100\n",
            "20/20 [==============================] - 2s 115ms/step - loss: 0.2540 - acc: 0.9066 - mse: 0.0271 - mae: 0.0726\n",
            "Epoch 43/100\n",
            "20/20 [==============================] - 2s 116ms/step - loss: 0.2378 - acc: 0.9321 - mse: 0.0240 - mae: 0.0707\n",
            "Epoch 44/100\n",
            "20/20 [==============================] - 2s 116ms/step - loss: 0.2133 - acc: 0.9299 - mse: 0.0223 - mae: 0.0630\n",
            "Epoch 45/100\n",
            "20/20 [==============================] - 2s 118ms/step - loss: 0.2217 - acc: 0.9278 - mse: 0.0227 - mae: 0.0667\n",
            "Epoch 46/100\n",
            "20/20 [==============================] - 2s 116ms/step - loss: 0.2269 - acc: 0.9193 - mse: 0.0240 - mae: 0.0653\n",
            "Epoch 47/100\n",
            "20/20 [==============================] - 2s 116ms/step - loss: 0.2139 - acc: 0.9384 - mse: 0.0226 - mae: 0.0627\n",
            "Epoch 48/100\n",
            "20/20 [==============================] - 2s 116ms/step - loss: 0.2133 - acc: 0.9384 - mse: 0.0221 - mae: 0.0634\n",
            "Epoch 49/100\n",
            "20/20 [==============================] - 2s 117ms/step - loss: 0.1823 - acc: 0.9406 - mse: 0.0183 - mae: 0.0560\n",
            "Epoch 50/100\n",
            "20/20 [==============================] - 2s 116ms/step - loss: 0.1996 - acc: 0.9236 - mse: 0.0207 - mae: 0.0595\n",
            "Epoch 51/100\n",
            "20/20 [==============================] - 2s 119ms/step - loss: 0.2028 - acc: 0.9384 - mse: 0.0217 - mae: 0.0603\n",
            "Epoch 52/100\n",
            "20/20 [==============================] - 2s 118ms/step - loss: 0.1765 - acc: 0.9448 - mse: 0.0178 - mae: 0.0529\n",
            "Epoch 53/100\n",
            "20/20 [==============================] - 2s 117ms/step - loss: 0.1721 - acc: 0.9533 - mse: 0.0172 - mae: 0.0527\n",
            "Epoch 54/100\n",
            "20/20 [==============================] - 2s 116ms/step - loss: 0.1655 - acc: 0.9660 - mse: 0.0162 - mae: 0.0518\n",
            "Epoch 55/100\n",
            "20/20 [==============================] - 2s 117ms/step - loss: 0.1805 - acc: 0.9363 - mse: 0.0191 - mae: 0.0542\n",
            "Epoch 56/100\n",
            "20/20 [==============================] - 2s 119ms/step - loss: 0.1663 - acc: 0.9427 - mse: 0.0170 - mae: 0.0510\n",
            "Epoch 57/100\n",
            "20/20 [==============================] - 2s 117ms/step - loss: 0.1678 - acc: 0.9575 - mse: 0.0167 - mae: 0.0521\n",
            "Epoch 58/100\n",
            "20/20 [==============================] - 2s 117ms/step - loss: 0.1545 - acc: 0.9427 - mse: 0.0162 - mae: 0.0463\n",
            "Epoch 59/100\n",
            "20/20 [==============================] - 2s 117ms/step - loss: 0.1539 - acc: 0.9533 - mse: 0.0152 - mae: 0.0471\n",
            "Epoch 60/100\n",
            "20/20 [==============================] - 2s 115ms/step - loss: 0.1370 - acc: 0.9639 - mse: 0.0133 - mae: 0.0422\n",
            "Epoch 61/100\n",
            "20/20 [==============================] - 2s 116ms/step - loss: 0.1343 - acc: 0.9618 - mse: 0.0129 - mae: 0.0420\n",
            "Epoch 62/100\n",
            "20/20 [==============================] - 2s 115ms/step - loss: 0.1526 - acc: 0.9639 - mse: 0.0153 - mae: 0.0476\n",
            "Epoch 63/100\n",
            "20/20 [==============================] - 2s 115ms/step - loss: 0.1338 - acc: 0.9682 - mse: 0.0128 - mae: 0.0423\n",
            "Epoch 64/100\n",
            "20/20 [==============================] - 2s 117ms/step - loss: 0.1499 - acc: 0.9512 - mse: 0.0157 - mae: 0.0452\n",
            "Epoch 65/100\n",
            "20/20 [==============================] - 2s 116ms/step - loss: 0.1386 - acc: 0.9554 - mse: 0.0139 - mae: 0.0428\n",
            "Epoch 66/100\n",
            "20/20 [==============================] - 2s 116ms/step - loss: 0.1247 - acc: 0.9766 - mse: 0.0118 - mae: 0.0397\n",
            "Epoch 67/100\n",
            "20/20 [==============================] - 2s 116ms/step - loss: 0.1270 - acc: 0.9724 - mse: 0.0123 - mae: 0.0402\n",
            "Epoch 68/100\n",
            "20/20 [==============================] - 2s 117ms/step - loss: 0.1144 - acc: 0.9809 - mse: 0.0106 - mae: 0.0356\n",
            "Epoch 69/100\n",
            "20/20 [==============================] - 2s 115ms/step - loss: 0.1277 - acc: 0.9639 - mse: 0.0123 - mae: 0.0389\n",
            "Epoch 70/100\n",
            "20/20 [==============================] - 2s 116ms/step - loss: 0.1247 - acc: 0.9618 - mse: 0.0123 - mae: 0.0387\n",
            "Epoch 71/100\n",
            "20/20 [==============================] - 2s 116ms/step - loss: 0.1173 - acc: 0.9639 - mse: 0.0114 - mae: 0.0369\n",
            "Epoch 72/100\n",
            "20/20 [==============================] - 2s 118ms/step - loss: 0.1183 - acc: 0.9682 - mse: 0.0111 - mae: 0.0376\n",
            "Epoch 73/100\n",
            "20/20 [==============================] - 2s 117ms/step - loss: 0.1080 - acc: 0.9745 - mse: 0.0105 - mae: 0.0337\n",
            "Epoch 74/100\n",
            "20/20 [==============================] - 2s 116ms/step - loss: 0.1077 - acc: 0.9745 - mse: 0.0101 - mae: 0.0341\n",
            "Epoch 75/100\n",
            "20/20 [==============================] - 2s 117ms/step - loss: 0.1070 - acc: 0.9682 - mse: 0.0108 - mae: 0.0336\n",
            "Epoch 76/100\n",
            "20/20 [==============================] - 3s 127ms/step - loss: 0.1177 - acc: 0.9597 - mse: 0.0122 - mae: 0.0354\n",
            "Epoch 77/100\n",
            "20/20 [==============================] - 3s 126ms/step - loss: 0.1272 - acc: 0.9554 - mse: 0.0132 - mae: 0.0371\n",
            "Epoch 78/100\n",
            "20/20 [==============================] - 2s 124ms/step - loss: 0.1055 - acc: 0.9682 - mse: 0.0108 - mae: 0.0323\n",
            "Epoch 79/100\n",
            "20/20 [==============================] - 2s 123ms/step - loss: 0.1031 - acc: 0.9724 - mse: 0.0097 - mae: 0.0327\n",
            "Epoch 80/100\n",
            "20/20 [==============================] - 2s 118ms/step - loss: 0.0955 - acc: 0.9766 - mse: 0.0091 - mae: 0.0301\n",
            "Epoch 81/100\n",
            "20/20 [==============================] - 2s 118ms/step - loss: 0.0974 - acc: 0.9809 - mse: 0.0092 - mae: 0.0308\n",
            "Epoch 82/100\n",
            "20/20 [==============================] - 2s 119ms/step - loss: 0.1243 - acc: 0.9660 - mse: 0.0125 - mae: 0.0367\n",
            "Epoch 83/100\n",
            "20/20 [==============================] - 2s 118ms/step - loss: 0.1014 - acc: 0.9660 - mse: 0.0102 - mae: 0.0316\n",
            "Epoch 84/100\n",
            "20/20 [==============================] - 2s 117ms/step - loss: 0.0923 - acc: 0.9830 - mse: 0.0085 - mae: 0.0299\n",
            "Epoch 85/100\n",
            "20/20 [==============================] - 2s 119ms/step - loss: 0.1110 - acc: 0.9639 - mse: 0.0113 - mae: 0.0326\n",
            "Epoch 86/100\n",
            "20/20 [==============================] - 2s 117ms/step - loss: 0.0843 - acc: 0.9851 - mse: 0.0074 - mae: 0.0283\n",
            "Epoch 87/100\n",
            "20/20 [==============================] - 2s 119ms/step - loss: 0.0990 - acc: 0.9745 - mse: 0.0094 - mae: 0.0306\n",
            "Epoch 88/100\n",
            "20/20 [==============================] - 2s 118ms/step - loss: 0.1042 - acc: 0.9703 - mse: 0.0105 - mae: 0.0321\n",
            "Epoch 89/100\n",
            "20/20 [==============================] - 2s 118ms/step - loss: 0.1001 - acc: 0.9660 - mse: 0.0103 - mae: 0.0291\n",
            "Epoch 90/100\n",
            "20/20 [==============================] - 2s 120ms/step - loss: 0.0856 - acc: 0.9830 - mse: 0.0081 - mae: 0.0278\n",
            "Epoch 91/100\n",
            "20/20 [==============================] - 2s 120ms/step - loss: 0.0877 - acc: 0.9745 - mse: 0.0081 - mae: 0.0286\n",
            "Epoch 92/100\n",
            "20/20 [==============================] - 2s 120ms/step - loss: 0.0849 - acc: 0.9766 - mse: 0.0079 - mae: 0.0270\n",
            "Epoch 93/100\n",
            "20/20 [==============================] - 2s 120ms/step - loss: 0.0854 - acc: 0.9788 - mse: 0.0081 - mae: 0.0262\n",
            "Epoch 94/100\n",
            "20/20 [==============================] - 2s 119ms/step - loss: 0.0815 - acc: 0.9788 - mse: 0.0076 - mae: 0.0250\n",
            "Epoch 95/100\n",
            "20/20 [==============================] - 2s 118ms/step - loss: 0.0771 - acc: 0.9851 - mse: 0.0067 - mae: 0.0257\n",
            "Epoch 96/100\n",
            "20/20 [==============================] - 2s 118ms/step - loss: 0.0815 - acc: 0.9745 - mse: 0.0078 - mae: 0.0258\n",
            "Epoch 97/100\n",
            "20/20 [==============================] - 2s 119ms/step - loss: 0.0825 - acc: 0.9851 - mse: 0.0072 - mae: 0.0257\n",
            "Epoch 98/100\n",
            "20/20 [==============================] - 2s 117ms/step - loss: 0.0743 - acc: 0.9766 - mse: 0.0069 - mae: 0.0237\n",
            "Epoch 99/100\n",
            "20/20 [==============================] - 2s 119ms/step - loss: 0.0773 - acc: 0.9809 - mse: 0.0074 - mae: 0.0243\n",
            "Epoch 100/100\n",
            "20/20 [==============================] - 2s 118ms/step - loss: 0.0673 - acc: 0.9936 - mse: 0.0057 - mae: 0.0224\n"
          ],
          "name": "stdout"
        }
      ]
    },
    {
      "cell_type": "markdown",
      "metadata": {
        "id": "Z-ePlaY4q6VY"
      },
      "source": [
        "## Model performance"
      ]
    },
    {
      "cell_type": "code",
      "metadata": {
        "colab": {
          "base_uri": "https://localhost:8080/",
          "height": 573
        },
        "id": "Lq7UNIWO59l7",
        "outputId": "0841e86f-799f-42e6-ba1a-4c1f2c074163"
      },
      "source": [
        "#  \"Accuracy\"\n",
        "plt.plot(history.history['acc'])\n",
        "plt.title('model accuracy')\n",
        "plt.ylabel('accuracy')\n",
        "plt.xlabel('epoch')\n",
        "plt.legend(['train'], loc='upper left')\n",
        "plt.grid()\n",
        "plt.show()\n",
        "\n",
        "# \"Loss\"\n",
        "plt.plot(history.history['loss'])\n",
        "plt.plot(history.history['mse'])\n",
        "plt.plot(history.history['mae'])\n",
        "plt.title('Metrics performance')\n",
        "plt.ylabel('loss')\n",
        "plt.xlabel('epoch')\n",
        "plt.legend(['loss', 'mse', 'mae'], loc='upper left')\n",
        "plt.grid()\n",
        "plt.show()"
      ],
      "execution_count": 22,
      "outputs": [
        {
          "output_type": "display_data",
          "data": {
            "image/png": "[encoded data removed]",
            "text/plain": [
              "<Figure size 432x288 with 1 Axes>"
            ]
          },
          "metadata": {
            "tags": [],
            "needs_background": "light"
          }
        },
        {
          "output_type": "display_data",
          "data": {
            "image/png": "[encoded data removed]",
            "text/plain": [
              "<Figure size 432x288 with 1 Axes>"
            ]
          },
          "metadata": {
            "tags": [],
            "needs_background": "light"
          }
        }
      ]
    },
    {
      "cell_type": "markdown",
      "metadata": {
        "id": "7fQv08rBDBBF"
      },
      "source": [
        "## Model Validation"
      ]
    },
    {
      "cell_type": "code",
      "metadata": {
        "colab": {
          "base_uri": "https://localhost:8080/"
        },
        "id": "kxpiNOshDETM",
        "outputId": "1bb88884-747f-4282-aa30-bc65aca9f3c9"
      },
      "source": [
        "preds = Fault_model.evaluate(x = X_testset, y = Y_onehot_test)\n",
        "### END CODE HERE ###\n",
        "print()\n",
        "print (\"Loss = \" + str(preds[0]))\n",
        "print (\"Test Accuracy = \" + str(preds[1]))"
      ],
      "execution_count": 23,
      "outputs": [
        {
          "output_type": "stream",
          "text": [
            "7/7 [==============================] - 0s 38ms/step - loss: 0.0731 - acc: 0.9851 - mse: 0.0066 - mae: 0.0229\n",
            "\n",
            "Loss = 0.07310604304075241\n",
            "Test Accuracy = 0.9850746393203735\n"
          ],
          "name": "stdout"
        }
      ]
    },
    {
      "cell_type": "markdown",
      "metadata": {
        "id": "pIB9Mzefveur"
      },
      "source": [
        "## Final Stage: Exporting Trained Model"
      ]
    },
    {
      "cell_type": "code",
      "metadata": {
        "id": "f4ondfMivhrv"
      },
      "source": [
        "# Scheme model in png\n",
        "from keras.utils import plot_model\n",
        "plot_model(Fault_model, to_file='./model.png', show_shapes=True,)\n",
        "# Save the entire model to a HDF5 file.\n",
        "Fault_model.save('Fault_Classifier_model.h5')\n"
      ],
      "execution_count": 35,
      "outputs": []
    },
    {
      "cell_type": "markdown",
      "metadata": {
        "id": "CmhtTZ8yDnR2"
      },
      "source": [
        "Predicción de muestras"
      ]
    },
    {
      "cell_type": "code",
      "metadata": {
        "colab": {
          "base_uri": "https://localhost:8080/"
        },
        "id": "xTUpJUDYDm4v",
        "outputId": "baeb425f-5211-4e40-ef02-4839b34a3048"
      },
      "source": [
        "from sklearn.metrics import confusion_matrix\n",
        "x_1 = X_testset[10]\n",
        "y_1 = Y_testset[10]\n",
        "print(x_1.shape,y_1)\n",
        "Y_predict = []\n",
        "Y_onehot_pred = Fault_model.predict(X_testset)\n",
        "for k in range(len(X_testset)):\n",
        "  Y_predict.append(np.argmax(Y_onehot_pred[k])) # se varía el num de evento\n",
        "print(np.array(Y_predict).shape, Y_testset.shape)\n",
        "\n",
        "cm = confusion_matrix(Y_testset, np.array(Y_predict))\n",
        "cm_norm =  cm.astype('float') / cm.sum(axis=1)[:, np.newaxis]\n",
        "\n",
        "#print(np.round(Fault_model.predict(X_testset)[10]).shape)"
      ],
      "execution_count": 32,
      "outputs": [
        {
          "output_type": "stream",
          "text": [
            "(2943, 3) 3\n",
            "(201,) (201,)\n"
          ],
          "name": "stdout"
        }
      ]
    },
    {
      "cell_type": "code",
      "metadata": {
        "colab": {
          "base_uri": "https://localhost:8080/",
          "height": 476
        },
        "id": "8eUGOzWXSCCT",
        "outputId": "66d7cce5-c2e4-4396-a525-56deec8125c2"
      },
      "source": [
        "import seaborn as sns\n",
        "import pandas as pd\n",
        "df_cm = pd.DataFrame(cm_norm, [\"1Ph\", \"2Ph\", \"2Ph-G\", \"3Ph\", \"No Fault\"], [\"1Ph\", \"2Ph\", \"2Ph-G\", \"3Ph\", \"No Fault\"])\n",
        "plt.figure(figsize = (8,8))\n",
        "conf = sns.heatmap(df_cm, annot=True, square=True, annot_kws={\"size\": 12})\n",
        "conf.set_xlabel('Prediction')\n",
        "conf.set_ylabel('True')\n",
        "plt.savefig('confusion_matrix.png')"
      ],
      "execution_count": 37,
      "outputs": [
        {
          "output_type": "display_data",
          "data": {
            "image/png": "[encoded data removed]",
            "text/plain": [
              "<Figure size 576x576 with 2 Axes>"
            ]
          },
          "metadata": {
            "tags": [],
            "needs_background": "light"
          }
        }
      ]
    }
  ]
}